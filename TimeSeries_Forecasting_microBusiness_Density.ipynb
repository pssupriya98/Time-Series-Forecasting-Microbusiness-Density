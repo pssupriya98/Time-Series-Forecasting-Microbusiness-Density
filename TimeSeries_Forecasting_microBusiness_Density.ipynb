{
 "cells": [
  {
   "cell_type": "code",
   "execution_count": 1,
   "id": "b992fa5f",
   "metadata": {},
   "outputs": [],
   "source": [
    "from pandas import Series\n",
    "from datetime import datetime\n",
    "import matplotlib.pyplot as plt \n",
    "import pandas as pd\n",
    "import numpy as np"
   ]
  },
  {
   "cell_type": "code",
   "execution_count": 3,
   "id": "3a1c958e",
   "metadata": {},
   "outputs": [],
   "source": [
    "train = pd.read_csv('train.csv')\n",
    "train[['ID','Date']] = train.row_id.str.split(\"_\",expand=True)\n",
    "train['Date'] = pd.to_datetime(train.Date,format='%Y-%m-%d') "
   ]
  },
  {
   "cell_type": "code",
   "execution_count": 6,
   "id": "8bac5067",
   "metadata": {},
   "outputs": [],
   "source": [
    "test = pd.read_csv('test.csv')\n",
    "test[['ID','Date']] = test.row_id.str.split(\"_\",expand=True)\n",
    "test['Date'] = pd.to_datetime(test.Date,format='%Y-%m-%d') "
   ]
  },
  {
   "cell_type": "code",
   "execution_count": 8,
   "id": "11d4e451",
   "metadata": {},
   "outputs": [],
   "source": [
    "for i in (train, test):\n",
    "    i['year']=i.Date.dt.year \n",
    "    i['month']=i.Date.dt.month \n",
    "    i['day']=i.Date.dt.day"
   ]
  },
  {
   "cell_type": "code",
   "execution_count": 9,
   "id": "a0c6140f",
   "metadata": {},
   "outputs": [],
   "source": [
    "from statsmodels.tsa.statespace.sarimax import SARIMAX"
   ]
  },
  {
   "cell_type": "code",
   "execution_count": 11,
   "id": "dc20b0b4",
   "metadata": {},
   "outputs": [],
   "source": [
    "y = train['microbusiness_density']\n",
    "ARMAmodel = SARIMAX(y, order = (1, 0, 1))\n",
    "ARMAmodel = ARMAmodel.fit()"
   ]
  },
  {
   "cell_type": "code",
   "execution_count": 12,
   "id": "c581a8f3",
   "metadata": {},
   "outputs": [],
   "source": [
    "y_pred = ARMAmodel.get_forecast(len(test.index))\n",
    "y_pred_df = y_pred.conf_int(alpha = 0.05) \n",
    "y_pred_df[\"Predictions\"] = ARMAmodel.predict(start = y_pred_df.index[0], end = y_pred_df.index[-1])\n",
    "y_pred_df.index = test.index\n",
    "y_pred_out = y_pred_df[\"Predictions\"] "
   ]
  },
  {
   "cell_type": "code",
   "execution_count": 13,
   "id": "eb04e3c9",
   "metadata": {},
   "outputs": [
    {
     "data": {
      "text/plain": [
       "<matplotlib.legend.Legend at 0x1bde0869b80>"
      ]
     },
     "execution_count": 13,
     "metadata": {},
     "output_type": "execute_result"
    },
    {
     "data": {
      "image/png": "[encoded data removed]",
      "text/plain": [
       "<Figure size 640x480 with 1 Axes>"
      ]
     },
     "metadata": {},
     "output_type": "display_data"
    }
   ],
   "source": [
    "plt.plot(y_pred_out, color='green', label = 'Predictions')\n",
    "plt.legend()"
   ]
  },
  {
   "cell_type": "code",
   "execution_count": null,
   "id": "0a682ad6",
   "metadata": {},
   "outputs": [],
   "source": []
  }
 ],
 "metadata": {
  "kernelspec": {
   "display_name": "Python 3 (ipykernel)",
   "language": "python",
   "name": "python3"
  },
  "language_info": {
   "codemirror_mode": {
    "name": "ipython",
    "version": 3
   },
   "file_extension": ".py",
   "mimetype": "text/x-python",
   "name": "python",
   "nbconvert_exporter": "python",
   "pygments_lexer": "ipython3",
   "version": "3.9.13"
  }
 },
 "nbformat": 4,
 "nbformat_minor": 5
}
